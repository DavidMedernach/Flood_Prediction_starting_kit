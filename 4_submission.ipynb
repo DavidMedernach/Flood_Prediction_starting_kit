{
 "cells": [
  {
   "cell_type": "markdown",
   "metadata": {},
   "source": [
    "# Model 2: High resolution prediction of flood maps"
   ]
  },
  {
   "cell_type": "code",
   "execution_count": null,
   "metadata": {},
   "outputs": [],
   "source": [
    "import numpy as np\n",
    "import pandas as pd\n",
    "import xarray as xr\n",
    "import shutil"
   ]
  },
  {
   "cell_type": "markdown",
   "metadata": {},
   "source": [
    "Loading of the previously computed predictions"
   ]
  },
  {
   "cell_type": "code",
   "execution_count": null,
   "metadata": {},
   "outputs": [],
   "source": [
    "predictions = xr.open_dataset(\"localdata/Model2_Score_Full_Rez_inf.nc\")"
   ]
  },
  {
   "cell_type": "code",
   "execution_count": null,
   "metadata": {},
   "outputs": [],
   "source": [
    "relevent_data_tag_binary_mask = xr.open_dataset(\"localdata/raw/relevent_data_tag_binary_mask.nc\")\n",
    "\n",
    "nan_mask = relevent_data_tag_binary_mask[\"__xarray_dataarray_variable__\"] == 1\n",
    "data_array = predictions[\"M2_score\"]\n",
    "\n",
    "for time in predictions.time.values:\n",
    "    time_slice = data_array.sel(time=time)\n",
    "    time_slice = time_slice.where(~nan_mask, -1)\n",
    "    data_array.loc[dict(time=time)] = time_slice\n",
    "\n",
    "predictions[\"M2_score\"] = data_array\n",
    "predictions.to_netcdf(f'localdata/predictions_tmp.nc', engine='h5netcdf')\n"
   ]
  },
  {
   "cell_type": "code",
   "execution_count": null,
   "metadata": {},
   "outputs": [],
   "source": [
    "np.unique(predictions[\"M2_score\"].values)"
   ]
  },
  {
   "cell_type": "code",
   "execution_count": null,
   "metadata": {},
   "outputs": [],
   "source": [
    "def from_xarray_to_vector(data: xr.DataArray):\n",
    "    data = data.sortby(\"time\").sortby(\"x\").sortby(\"y\")\n",
    "\n",
    "    xry = data.M2_score.values\n",
    "    vectors = xry.reshape(xry.shape[0], xry.shape[1]*xry.shape[2])\n",
    "    vector = vectors.flatten()\n",
    "    mask = vector == -1\n",
    "    return vector[~mask]"
   ]
  },
  {
   "cell_type": "markdown",
   "metadata": {},
   "source": [
    "**The submission file should be a flatten vector**\n",
    "\n",
    "Conversion to vector"
   ]
  },
  {
   "cell_type": "code",
   "execution_count": null,
   "metadata": {},
   "outputs": [],
   "source": [
    "out = from_xarray_to_vector(predictions)"
   ]
  },
  {
   "cell_type": "markdown",
   "metadata": {},
   "source": [
    "Sanity check"
   ]
  },
  {
   "cell_type": "code",
   "execution_count": null,
   "metadata": {},
   "outputs": [],
   "source": [
    "len(out) # it should be 112923207"
   ]
  },
  {
   "cell_type": "code",
   "execution_count": null,
   "metadata": {},
   "outputs": [],
   "source": [
    "pd.DataFrame(out).to_csv(\"localdata/pred.csv\")\n",
    "shutil.make_archive(\"localdata/pred.csv\", 'zip', \"localdata\",\"pred.csv\")"
   ]
  }
 ],
 "metadata": {
  "kernelspec": {
   "display_name": "clean_geo_env_dav_5",
   "language": "python",
   "name": "python3"
  },
  "language_info": {
   "codemirror_mode": {
    "name": "ipython",
    "version": 3
   },
   "file_extension": ".py",
   "mimetype": "text/x-python",
   "name": "python",
   "nbconvert_exporter": "python",
   "pygments_lexer": "ipython3",
   "version": "3.8.0"
  }
 },
 "nbformat": 4,
 "nbformat_minor": 4
}
